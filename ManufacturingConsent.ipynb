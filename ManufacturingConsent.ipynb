{
 "cells": [
  {
   "cell_type": "code",
   "execution_count": 10,
   "metadata": {
    "collapsed": true
   },
   "outputs": [],
   "source": [
    "import urllib2 as ul\n",
    "from bs4 import BeautifulSoup as bs"
   ]
  },
  {
   "cell_type": "code",
   "execution_count": 3,
   "metadata": {
    "collapsed": false
   },
   "outputs": [],
   "source": [
    "url='https://www.google.com/search?q=site:bloomberg.com+donald+trump+2016+presidential+election'\n",
    "agents = {'User-Agent':\"Mozilla/4.0 (compatible; MSIE 6.0; Windows NT 5.1;SV1; .NET CLR 1.1.4322; .NET CLR 2.0.50727; .NET CLR 3.0.04506.30)\"}"
   ]
  },
  {
   "cell_type": "code",
   "execution_count": 12,
   "metadata": {
    "collapsed": false
   },
   "outputs": [],
   "source": [
    "request = ul.Request(url, headers=agents)\n",
    "page = ul.urlopen(request).read()\n",
    "soup = bs(page,\"html.parser\")"
   ]
  },
  {
   "cell_type": "code",
   "execution_count": 33,
   "metadata": {
    "collapsed": false
   },
   "outputs": [],
   "source": [
    "#print soup.prettify()"
   ]
  },
  {
   "cell_type": "code",
   "execution_count": 31,
   "metadata": {
    "collapsed": false
   },
   "outputs": [],
   "source": [
    "links = []\n",
    "for link in soup.find_all('a'):\n",
    "    try:\n",
    "        tmp=link.get('href')\n",
    "        if tmp.find('http://www.bloomberg.com')>-1 and tmp.find('http://webcache.googleusercontent')==-1:\n",
    "            links.append(link.get('href'))\n",
    "    except AttributeError:\n",
    "        continue"
   ]
  },
  {
   "cell_type": "code",
   "execution_count": 35,
   "metadata": {
    "collapsed": false
   },
   "outputs": [
    {
     "name": "stdout",
     "output_type": "stream",
     "text": [
      "10\n",
      "/url?q=http://www.bloomberg.com/politics/articles/2016-03-07/the-week-the-republican-party-melted-down&sa=U&ved=0ahUKEwiUpa7g1NLLAhUO0GMKHRXjAz4QFggUMAA&usg=AFQjCNHR_Og3hm7U_6sUQS5M3_KQfh636g\n",
      "http://www.bloomberg.com/politics/articles/2016-03-07/the-week-the-republican-party-melted-down\n",
      "/url?q=http://www.bloomberg.com/politics/articles/2016-02-16/obama-says-donald-trump-won-t-be-elected-president-in-2016&sa=U&ved=0ahUKEwiUpa7g1NLLAhUO0GMKHRXjAz4QFggaMAE&usg=AFQjCNG2oN0Sa4v0xhtqm6QI6U4_gXpHnw\n",
      "http://www.bloomberg.com/politics/articles/2016-02-16/obama-says-donald-trump-won-t-be-elected-president-in-2016\n",
      "/url?q=http://www.bloomberg.com/politics/articles/2016-02-17/trump-dominates-in-bloomberg-poll-before-south-carolina-primary&sa=U&ved=0ahUKEwiUpa7g1NLLAhUO0GMKHRXjAz4QFgggMAI&usg=AFQjCNE9bUtiO8FIH_MbcpKIuu9pM-od8A\n",
      "http://www.bloomberg.com/politics/articles/2016-02-17/trump-dominates-in-bloomberg-poll-before-south-carolina-primary\n",
      "/url?q=http://www.bloomberg.com/politics/articles/2016-02-25/bloomberg-politics-super-tuesday-sec-primary-republican-poll&sa=U&ved=0ahUKEwiUpa7g1NLLAhUO0GMKHRXjAz4QFggmMAM&usg=AFQjCNHNQJZ3_ejSRyshCZL1cSnH5_V1uA\n",
      "http://www.bloomberg.com/politics/articles/2016-02-25/bloomberg-politics-super-tuesday-sec-primary-republican-poll\n",
      "/url?q=http://www.bloomberg.com/politics/articles/2016-03-02/republicans-wrestle-with-trump-after-dominant-super-tuesday-wins&sa=U&ved=0ahUKEwiUpa7g1NLLAhUO0GMKHRXjAz4QFggsMAQ&usg=AFQjCNEbDFydK2jGTz_ljqCW7xk-hqUqAw\n",
      "http://www.bloomberg.com/politics/articles/2016-03-02/republicans-wrestle-with-trump-after-dominant-super-tuesday-wins\n",
      "/url?q=http://www.bloomberg.com/news/articles/2016-02-24/president-trump-traders-have-no-answers-on-how-to-prep-for-that&sa=U&ved=0ahUKEwiUpa7g1NLLAhUO0GMKHRXjAz4QFggyMAU&usg=AFQjCNEJcEQuOTKwc09a4BJSn3353aUl3w\n",
      "http://www.bloomberg.com/news/articles/2016-02-24/president-trump-traders-have-no-answers-on-how-to-prep-for-that\n",
      "/url?q=http://www.bloomberg.com/politics/articles/2016-03-07/trump-s-deep-pockets-could-leave-the-gop-empty-handed&sa=U&ved=0ahUKEwiUpa7g1NLLAhUO0GMKHRXjAz4QFgg4MAY&usg=AFQjCNHLFHkZyQhSQRPs1Ptzy0vJwXoJRQ\n",
      "http://www.bloomberg.com/politics/articles/2016-03-07/trump-s-deep-pockets-could-leave-the-gop-empty-handed\n",
      "/url?q=http://www.bloomberg.com/politics/trackers/2016-02-24/donald-trump-s-presidential-odds-cut-given-25-chance&sa=U&ved=0ahUKEwiUpa7g1NLLAhUO0GMKHRXjAz4QFgg-MAc&usg=AFQjCNHRaxPKBPLhioXwUBc0AKsmzKY8aA\n",
      "http://www.bloomberg.com/politics/trackers/2016-02-24/donald-trump-s-presidential-odds-cut-given-25-chance\n",
      "/url?q=http://www.bloomberg.com/politics/features/2016-03-14/how-to-steal-a-nomination-from-donald-trump&sa=U&ved=0ahUKEwiUpa7g1NLLAhUO0GMKHRXjAz4QFghEMAg&usg=AFQjCNHVXL5fapFLBV3nt1B3GxX2omO32Q\n",
      "http://www.bloomberg.com/politics/features/2016-03-14/how-to-steal-a-nomination-from-donald-trump\n",
      "/url?q=http://www.bloomberg.com/politics/articles/2016-03-15/soros-alarmed-by-trump-pours-money-into-2016-race&sa=U&ved=0ahUKEwiUpa7g1NLLAhUO0GMKHRXjAz4QFghKMAk&usg=AFQjCNFWI08l5MLTNpKpMhoKBym4zx1yWQ\n",
      "http://www.bloomberg.com/politics/articles/2016-03-15/soros-alarmed-by-trump-pours-money-into-2016-race\n"
     ]
    }
   ],
   "source": [
    "print len(links)\n",
    "for i in links:\n",
    "    print i\n",
    "    a=i.find('http://www.bloomberg')\n",
    "    b=i.find('&')\n",
    "    print i[a:b]\n",
    "##    request = ul.Request(i, headers=agents)\n",
    "#    page = ul.urlopen(request).read()"
   ]
  },
  {
   "cell_type": "code",
   "execution_count": null,
   "metadata": {
    "collapsed": true
   },
   "outputs": [],
   "source": []
  }
 ],
 "metadata": {
  "kernelspec": {
   "display_name": "Python 2",
   "language": "python",
   "name": "python2"
  },
  "language_info": {
   "codemirror_mode": {
    "name": "ipython",
    "version": 2
   },
   "file_extension": ".py",
   "mimetype": "text/x-python",
   "name": "python",
   "nbconvert_exporter": "python",
   "pygments_lexer": "ipython2",
   "version": "2.7.11"
  }
 },
 "nbformat": 4,
 "nbformat_minor": 0
}
