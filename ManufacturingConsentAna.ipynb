{
 "cells": [
  {
   "cell_type": "markdown",
   "metadata": {},
   "source": [
    "# Manufacturing Consent Analysis and Data Description"
   ]
  },
  {
   "cell_type": "raw",
   "metadata": {},
   "source": [
    "    This notebook will be used to aggregate and collect relevant information from the Jupyter notebook 'Manufacturing Consent' which is at once a sandbox and also overrun with outputs from the running of the commands. "
   ]
  },
  {
   "cell_type": "markdown",
   "metadata": {},
   "source": [
    "## Data Description"
   ]
  },
  {
   "cell_type": "raw",
   "metadata": {},
   "source": [
    "    I have collected around 3500 articles from many news sources to start a corpus for further investigation with NLP into the election of 2016.  To do so I have automated google searches in python to search for 'Donald Trump', 'Hillary Clinton', 'Ted Cruz', and Bernie Sanders, potentially with qualifiers and constrained to specific webpages.  I have tried to be polite about my use of automating the google searches by putting rather long time periods to wait between queries and also quitting my data download at around 1 GB.  Further investigation would require the google APIs and likely some purchase.\n",
    "    Strictly textual news sources were used to keep the analysis free and publicly available, though future use of digital signal processing of video and audio would be very interesting.\n",
    "    The news sources downloaded from are:\n",
    "\n",
    "foxnews\n",
    "bloomberg\n",
    "cnn\n",
    "nytimes\n",
    "nypost\n",
    "latimes\n",
    "dailynews\n",
    "facebook\n",
    "abcnews.go\n",
    "nbcnews\n",
    "rt (russian times)\n",
    "ft (financial times)\n",
    "aljazeera\n",
    "huffingtonpost\n",
    "buzzfeed\n",
    "\n",
    "    Non-media data sources were also obtained to investigate correlation between funding and the media from http://www.fec.gov/disclosurep/PDownload.do though this analysis is not yet presented here and SuperPac contributions would require some more digging.\n",
    "    I have yet to decide on how to automate the election results process but that will be done as well.  www.fec.gov is a bit lacking on this front as far as I can tell.\n",
    "    "
   ]
  },
  {
   "cell_type": "code",
   "execution_count": null,
   "metadata": {
    "collapsed": true
   },
   "outputs": [],
   "source": []
  }
 ],
 "metadata": {
  "kernelspec": {
   "display_name": "Python 2",
   "language": "python",
   "name": "python2"
  },
  "language_info": {
   "codemirror_mode": {
    "name": "ipython",
    "version": 2
   },
   "file_extension": ".py",
   "mimetype": "text/x-python",
   "name": "python",
   "nbconvert_exporter": "python",
   "pygments_lexer": "ipython2",
   "version": "2.7.11"
  }
 },
 "nbformat": 4,
 "nbformat_minor": 0
}
