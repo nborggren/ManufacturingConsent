{
 "cells": [
  {
   "cell_type": "markdown",
   "metadata": {},
   "source": [
    "## Manufacturing Consent Summary and Description"
   ]
  },
  {
   "cell_type": "markdown",
   "metadata": {},
   "source": [
    "  In 1988, Noam Chomsky and Edward Herman propose a 'propaganda model' in their book 'Manufacturing Consent - The Political Economy of the Mass Media.'  It is argued therein that the media is largely responsible for inducing particular public opinions and shaping the political landscape.  Furthermore this shaping comes not necessarily from sinister intentions, but as a result of natural evolution of market forces, privileged access for content production, and can even directly subsidize the media outlets.  \n",
    "  In this data science project we will update the propaganda model for use in the 21st century and evaluate some assorted hypothesis and modernize some of the metrics.  For example, the book proposes a measure, in inches, of the space alotted to a type of story.  We can update this measure and use mega or gigabytes.  Furthermore, we can use tools developed in Natural Language Processing to automate this process.  Using topic models we can determine the most important subjects, and we can combine with non-media data from other sources to see if the stories scale in terms of their impact.\n",
    "  The immediate project will involve an investigation into the feedback between the media and the candidates for the United States 2016 presidential election.  The politics provides cheap and readily available news bits, while the news provides exposure for the candidates.  We will investigate the questions:\n",
    "  \n",
    "  'Do the different media outlets have a preferred candidate?'  \n",
    "  'Does the overall media have a preference for a candidate?'\n",
    "  \n",
    "One hears complaints of their candidate being blacked out of the media, or of a liberal bias, or of the other candidates being bout or various other complaints.  Such complaints can be investigated rigorously in the age of Big Data.\n",
    "  One need not keep this project as a simple description of the media, the age of Big Data should also enable democracy to be, well, the most democratic it has ever been.  \n",
    "\n"
   ]
  }
 ],
 "metadata": {
  "kernelspec": {
   "display_name": "Python 2",
   "language": "python",
   "name": "python2"
  },
  "language_info": {
   "codemirror_mode": {
    "name": "ipython",
    "version": 2
   },
   "file_extension": ".py",
   "mimetype": "text/x-python",
   "name": "python",
   "nbconvert_exporter": "python",
   "pygments_lexer": "ipython2",
   "version": "2.7.11"
  }
 },
 "nbformat": 4,
 "nbformat_minor": 0
}
